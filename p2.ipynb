{
 "cells": [
  {
   "cell_type": "code",
   "execution_count": 17,
   "id": "cc82c93c-91f8-42bd-a7a9-2857cb8c3066",
   "metadata": {},
   "outputs": [
    {
     "name": "stdout",
     "output_type": "stream",
     "text": [
      "0\n",
      "1\n",
      "0\n",
      "0\n"
     ]
    }
   ],
   "source": [
    "import numpy as np\n",
    "def mp_neuron(inputs, weights, threshold):\n",
    "    weighted_sum = np.dot(inputs, weights)\n",
    "    output = 1 if weighted_sum >= threshold else 0\n",
    "    return output\n",
    "def and_not(x1, x2):\n",
    "    weights = [1, -1] \n",
    "    threshold = 1   \n",
    "    inputs = np.array([x1, x2])\n",
    "    output = mp_neuron(inputs, weights, threshold)\n",
    "    return output\n",
    "print(and_not(0, 0)) \n",
    "print(and_not(1, 0))  \n",
    "print(and_not(0, 1))  \n",
    "print(and_not(1, 1))  "
   ]
  },
  {
   "cell_type": "code",
   "execution_count": 20,
   "id": "fe31fc22-7a82-4f40-b5b9-dd54d47c25fd",
   "metadata": {},
   "outputs": [
    {
     "name": "stdout",
     "output_type": "stream",
     "text": [
      "0\n",
      "1\n",
      "0\n",
      "0\n"
     ]
    }
   ],
   "source": [
    "import numpy as np\n",
    "\n",
    "def mp(i,w,t):\n",
    "    ws=np.dot(i,w)\n",
    "    if ws>=t:\n",
    "        o=1\n",
    "    else:\n",
    "        o=0\n",
    "    return o\n",
    "\n",
    "def andnot(x,y):\n",
    "    i=np.array([x,y])\n",
    "    t=1\n",
    "    w=[1,-1]\n",
    "    o=mp(i,w,t)\n",
    "    return o\n",
    "\n",
    "print(and_not(0, 0)) \n",
    "print(and_not(1, 0))  \n",
    "print(and_not(0, 1))  \n",
    "print(and_not(1, 1))  \n",
    "\n"
   ]
  },
  {
   "cell_type": "code",
   "execution_count": null,
   "id": "3ca7a992-3a71-4709-876f-1b9b2bc7ae3f",
   "metadata": {},
   "outputs": [],
   "source": []
  }
 ],
 "metadata": {
  "kernelspec": {
   "display_name": "Python 3 (ipykernel)",
   "language": "python",
   "name": "python3"
  },
  "language_info": {
   "codemirror_mode": {
    "name": "ipython",
    "version": 3
   },
   "file_extension": ".py",
   "mimetype": "text/x-python",
   "name": "python",
   "nbconvert_exporter": "python",
   "pygments_lexer": "ipython3",
   "version": "3.11.8"
  }
 },
 "nbformat": 4,
 "nbformat_minor": 5
}
