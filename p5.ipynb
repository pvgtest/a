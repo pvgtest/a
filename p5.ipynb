{
 "cells": [
  {
   "cell_type": "code",
   "execution_count": 26,
   "id": "65cbbe02-97bc-4e25-a5e5-22e3152e096f",
   "metadata": {},
   "outputs": [
    {
     "name": "stdout",
     "output_type": "stream",
     "text": [
      "[ 1 -1 -1 -1]\n",
      "[ 1 -1]\n"
     ]
    }
   ],
   "source": [
    "import numpy as np\n",
    "\n",
    "X=np.array([[1,1,1,-1],[-1,-1,1,1]])\n",
    "Y=np.array([[1,-1],[-1,1]])\n",
    "W=np.dot(Y.T,X)\n",
    "\n",
    "def bam(x):\n",
    "    return np.sign(np.dot(W,x))\n",
    "\n",
    "x_test=np.array([1,-1,-1,-1])\n",
    "y_test=bam(x_test)\n",
    "\n",
    "print(x_test)\n",
    "print(y_test)\n",
    "\n"
   ]
  },
  {
   "cell_type": "code",
   "execution_count": null,
   "id": "bcc612f1-bef1-4864-bc7e-62e2810aa842",
   "metadata": {},
   "outputs": [],
   "source": []
  }
 ],
 "metadata": {
  "kernelspec": {
   "display_name": "Python 3 (ipykernel)",
   "language": "python",
   "name": "python3"
  },
  "language_info": {
   "codemirror_mode": {
    "name": "ipython",
    "version": 3
   },
   "file_extension": ".py",
   "mimetype": "text/x-python",
   "name": "python",
   "nbconvert_exporter": "python",
   "pygments_lexer": "ipython3",
   "version": "3.11.8"
  }
 },
 "nbformat": 4,
 "nbformat_minor": 5
}
